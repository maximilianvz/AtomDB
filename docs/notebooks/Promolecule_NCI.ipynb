{
 "cells": [
  {
   "cell_type": "markdown",
   "metadata": {
    "slideshow": {
     "slide_type": "-"
    }
   },
   "source": [
    "# Non Covalent Interactions from Promolecular Densities"
   ]
  },
  {
   "cell_type": "markdown",
   "metadata": {
    "slideshow": {
     "slide_type": "slide"
    }
   },
   "source": [
    "This tutorial shows how the `promolecule` module in QC-AtomDB can be used to calculate the reduced density gradient of a molecule. \n",
    "\n",
    "Non covalent interactions (NCI) such as hydrogen bonds, van der Waals interactions and steric clashes, play a central role in the structure and properties of (macro)molecules. The [reduced density gradient](https://pubs.acs.org/doi/10.1021/ct100641a), $s(\\mathbf{r})$, is an aproach to identify such interactions as distinguishable features in real space. $s(\\mathbf{r})$ is defined as a ratio of the gradient of the electron density to the electron density itself:\n",
    "\n",
    "$$\n",
    "s(\\mathbf{r}) = \\frac{1}{2(3\\pi^2)^{1/3}}\\frac{|\\nabla \\rho (\\mathbf{r})|}{\\rho^{4/3}(\\mathbf{r})}\n",
    "$$\n",
    "\n",
    "For big molecular systems (such as biomolecules or materials), the calculation of the reduced density gradient is computationally expensive. The `promolecule` module in QC-AtomDB is a fast alternative to get the necessary ingredients to calculate the reduced density gradient in terms of promolecular density properties. These are properties of a molecule evaluated from the linear combination of the properties of the atoms that compose it. For example, the promolecular density is defined as:\n",
    "$$\n",
    "\\rho^{mol}_{pro} = \\sum^{N_{atoms}}_{i=1} c_i \\rho^{atom}_i\n",
    "$$ \n",
    "These atomic densities are obtained from the atomic densities database in QC-AtomDB.\n",
    "\n",
    "As model systems the water molecule and its dimer will be used:\n",
    "\n",
    "<img src=\"images/h2o_dimer.png\" alt=\"drawing\" style=\"width: 300px;\"/>\n",
    "\n",
    "By plotting $s(\\mathbf{r})$ versus $\\rho(\\mathbf{r})$, and analysing the low density region, the presence of non-covalent interactions in the dimer can be identified. To further clasify the type of the interaction one needs to look at the sign of the laplacian of the density, which we do not cover here.\n",
    "\n",
    "Then, to compute the reduced density gradient one needs:\n",
    "- Molecular coordinate file (e.g. XYZ file)\n",
    "- Cubic grid of points\n",
    "- Electron density and density gradient at points\n",
    "\n",
    "As a way to also demonstrate the seamles interface between AtomDB and other packages in the QC-Devs environment, we will use modules from IOData and Grid to read the molecular coordinate files and generate the grid of points, respectively."
   ]
  },
  {
   "cell_type": "markdown",
   "metadata": {},
   "source": [
    "## Packages install for Google Colab"
   ]
  },
  {
   "cell_type": "code",
   "execution_count": 1,
   "metadata": {},
   "outputs": [],
   "source": [
    "# ! pip install git+https://github.com/theochem/iodata.git\n",
    "# ! pip install git+https://github.com/theochem/grid.git\n",
    "# ! pip install git+https://github.com/theochem/AtomDB.git@tutor_notebooks"
   ]
  },
  {
   "cell_type": "code",
   "execution_count": 2,
   "metadata": {},
   "outputs": [],
   "source": [
    "# # download the example files\n",
    "# import os\n",
    "# from urllib.request import urlretrieve\n",
    "\n",
    "# fpath = \"data/\"\n",
    "# if not os.path.exists(fpath):\n",
    "#     os.makedirs(fpath, exist_ok=True)\n",
    "\n",
    "# urlretrieve(\n",
    "#     \"https://raw.githubusercontent.com/theochem/AtomDB/dev/examples/notebooks/data/h2o_dimer.xyz\",\n",
    "#     os.path.join(fpath, \"h2o_dimer.xyz\")\n",
    "#     )\n",
    "\n",
    "# urlretrieve(\n",
    "#     \"https://raw.githubusercontent.com/theochem/AtomDB/dev/examples/notebooks/data/h2o_promol_rho.npy\",\n",
    "#     os.path.join(fpath, \"h2o_promol_rho.npy\")\n",
    "#     )\n",
    "\n",
    "# urlretrieve(\n",
    "#     \"https://raw.githubusercontent.com/theochem/AtomDB/dev/examples/notebooks/data/h2o_promol_reducedgradient.npy\",\n",
    "#     os.path.join(fpath, \"h2o_promol_reducedgradient.npy\")\n",
    "#     )"
   ]
  },
  {
   "cell_type": "code",
   "execution_count": 3,
   "metadata": {},
   "outputs": [
    {
     "name": "stderr",
     "output_type": "stream",
     "text": [
      "/Users/maximilianvanzyl/modules/AtomDB/atomdb/species.py:151: RuntimeWarning: invalid value encountered in log\n",
      "  np.log(y) if log else y,\n"
     ]
    },
    {
     "ename": "ValueError",
     "evalue": "`y` must contain only finite values.",
     "output_type": "error",
     "traceback": [
      "\u001b[0;31m---------------------------------------------------------------------------\u001b[0m",
      "\u001b[0;31mValueError\u001b[0m                                Traceback (most recent call last)",
      "Cell \u001b[0;32mIn[3], line 28\u001b[0m\n\u001b[1;32m     26\u001b[0m dimer_promol \u001b[38;5;241m=\u001b[39m make_promolecule(atnums, atcoords, dataset\u001b[38;5;241m=\u001b[39m\u001b[38;5;124m'\u001b[39m\u001b[38;5;124mslater\u001b[39m\u001b[38;5;124m'\u001b[39m)\n\u001b[1;32m     27\u001b[0m dimer_rho \u001b[38;5;241m=\u001b[39m dimer_promol\u001b[38;5;241m.\u001b[39mdensity(cubgrid\u001b[38;5;241m.\u001b[39mpoints, log\u001b[38;5;241m=\u001b[39m\u001b[38;5;28;01mTrue\u001b[39;00m)\n\u001b[0;32m---> 28\u001b[0m dimer_grad \u001b[38;5;241m=\u001b[39m \u001b[43mdimer_promol\u001b[49m\u001b[38;5;241;43m.\u001b[39;49m\u001b[43mgradient\u001b[49m\u001b[43m(\u001b[49m\u001b[43mcubgrid\u001b[49m\u001b[38;5;241;43m.\u001b[39;49m\u001b[43mpoints\u001b[49m\u001b[43m,\u001b[49m\u001b[43m \u001b[49m\u001b[43mlog\u001b[49m\u001b[38;5;241;43m=\u001b[39;49m\u001b[38;5;28;43;01mTrue\u001b[39;49;00m\u001b[43m)\u001b[49m\n\u001b[1;32m     30\u001b[0m \u001b[38;5;66;03m# Compute reduced gradient\u001b[39;00m\n\u001b[1;32m     31\u001b[0m dimer_rdgrad \u001b[38;5;241m=\u001b[39m reduced_density_gradient(dimer_rho, dimer_grad)\n",
      "File \u001b[0;32m~/modules/AtomDB/atomdb/promolecule.py:318\u001b[0m, in \u001b[0;36mPromolecule.gradient\u001b[0;34m(self, points, spin, log)\u001b[0m\n\u001b[1;32m    315\u001b[0m \u001b[38;5;28;01mdef\u001b[39;00m \u001b[38;5;21mf\u001b[39m(atom):\n\u001b[1;32m    316\u001b[0m     \u001b[38;5;28;01mreturn\u001b[39;00m atom\u001b[38;5;241m.\u001b[39md_dens_func(spin\u001b[38;5;241m=\u001b[39mspin, log\u001b[38;5;241m=\u001b[39mlog)\n\u001b[0;32m--> 318\u001b[0m atoms_ddens \u001b[38;5;241m=\u001b[39m \u001b[43m_extensive_local_property\u001b[49m\u001b[43m(\u001b[49m\n\u001b[1;32m    319\u001b[0m \u001b[43m    \u001b[49m\u001b[38;5;28;43mself\u001b[39;49m\u001b[38;5;241;43m.\u001b[39;49m\u001b[43matoms\u001b[49m\u001b[43m,\u001b[49m\n\u001b[1;32m    320\u001b[0m \u001b[43m    \u001b[49m\u001b[38;5;28;43mself\u001b[39;49m\u001b[38;5;241;43m.\u001b[39;49m\u001b[43mcoords\u001b[49m\u001b[43m,\u001b[49m\n\u001b[1;32m    321\u001b[0m \u001b[43m    \u001b[49m\u001b[38;5;28;43mself\u001b[39;49m\u001b[38;5;241;43m.\u001b[39;49m\u001b[43mcoeffs\u001b[49m\u001b[43m,\u001b[49m\n\u001b[1;32m    322\u001b[0m \u001b[43m    \u001b[49m\u001b[43mpoints\u001b[49m\u001b[43m,\u001b[49m\n\u001b[1;32m    323\u001b[0m \u001b[43m    \u001b[49m\u001b[43mf\u001b[49m\u001b[43m,\u001b[49m\n\u001b[1;32m    324\u001b[0m \u001b[43m\u001b[49m\u001b[43m)\u001b[49m\n\u001b[1;32m    326\u001b[0m \u001b[38;5;66;03m# The cartesian gradient (\\nabla \\rho_A) has to be evaluated using\u001b[39;00m\n\u001b[1;32m    327\u001b[0m \u001b[38;5;66;03m# the chain rule:\u001b[39;00m\n\u001b[1;32m    328\u001b[0m \u001b[38;5;66;03m#   \\nabla \\rho_A(x,y,z) = \\frac{\\partial \\rho_A}{\\partial r} * \\hat{r}\u001b[39;00m\n\u001b[0;32m   (...)\u001b[0m\n\u001b[1;32m    335\u001b[0m \u001b[38;5;66;03m#\u001b[39;00m\n\u001b[1;32m    336\u001b[0m \u001b[38;5;66;03m# Define a unit vector function\u001b[39;00m\n\u001b[1;32m    337\u001b[0m \u001b[38;5;28;01mdef\u001b[39;00m \u001b[38;5;21munit_v\u001b[39m(vector):\n",
      "File \u001b[0;32m~/modules/AtomDB/atomdb/promolecule.py:599\u001b[0m, in \u001b[0;36m_extensive_local_property\u001b[0;34m(atoms, atom_coords, coeffs, points, f, deriv)\u001b[0m\n\u001b[1;32m    596\u001b[0m \u001b[38;5;250m\u001b[39m\u001b[38;5;124mr\u001b[39m\u001b[38;5;124;03m\"\"\"Helper function for computing extensive local properties.\"\"\"\u001b[39;00m\n\u001b[1;32m    597\u001b[0m \u001b[38;5;66;03m# Add contribution from each atom, calculating the radius between\u001b[39;00m\n\u001b[1;32m    598\u001b[0m \u001b[38;5;66;03m# the points of interest and each atom inside the generator\u001b[39;00m\n\u001b[0;32m--> 599\u001b[0m splines \u001b[38;5;241m=\u001b[39m [f(atom) \u001b[38;5;28;01mfor\u001b[39;00m atom \u001b[38;5;129;01min\u001b[39;00m atoms]\n\u001b[1;32m    600\u001b[0m \u001b[38;5;28;01mreturn\u001b[39;00m [\n\u001b[1;32m    601\u001b[0m     coeff \u001b[38;5;241m*\u001b[39m spline(np\u001b[38;5;241m.\u001b[39mlinalg\u001b[38;5;241m.\u001b[39mnorm(points \u001b[38;5;241m-\u001b[39m coord, axis\u001b[38;5;241m=\u001b[39m\u001b[38;5;241m1\u001b[39m), deriv\u001b[38;5;241m=\u001b[39mderiv)\n\u001b[1;32m    602\u001b[0m     \u001b[38;5;28;01mfor\u001b[39;00m (spline, coord, coeff) \u001b[38;5;129;01min\u001b[39;00m \u001b[38;5;28mzip\u001b[39m(splines, atom_coords, coeffs)\n\u001b[1;32m    603\u001b[0m ]\n",
      "File \u001b[0;32m~/modules/AtomDB/atomdb/promolecule.py:599\u001b[0m, in \u001b[0;36m<listcomp>\u001b[0;34m(.0)\u001b[0m\n\u001b[1;32m    596\u001b[0m \u001b[38;5;250m\u001b[39m\u001b[38;5;124mr\u001b[39m\u001b[38;5;124;03m\"\"\"Helper function for computing extensive local properties.\"\"\"\u001b[39;00m\n\u001b[1;32m    597\u001b[0m \u001b[38;5;66;03m# Add contribution from each atom, calculating the radius between\u001b[39;00m\n\u001b[1;32m    598\u001b[0m \u001b[38;5;66;03m# the points of interest and each atom inside the generator\u001b[39;00m\n\u001b[0;32m--> 599\u001b[0m splines \u001b[38;5;241m=\u001b[39m [\u001b[43mf\u001b[49m\u001b[43m(\u001b[49m\u001b[43matom\u001b[49m\u001b[43m)\u001b[49m \u001b[38;5;28;01mfor\u001b[39;00m atom \u001b[38;5;129;01min\u001b[39;00m atoms]\n\u001b[1;32m    600\u001b[0m \u001b[38;5;28;01mreturn\u001b[39;00m [\n\u001b[1;32m    601\u001b[0m     coeff \u001b[38;5;241m*\u001b[39m spline(np\u001b[38;5;241m.\u001b[39mlinalg\u001b[38;5;241m.\u001b[39mnorm(points \u001b[38;5;241m-\u001b[39m coord, axis\u001b[38;5;241m=\u001b[39m\u001b[38;5;241m1\u001b[39m), deriv\u001b[38;5;241m=\u001b[39mderiv)\n\u001b[1;32m    602\u001b[0m     \u001b[38;5;28;01mfor\u001b[39;00m (spline, coord, coeff) \u001b[38;5;129;01min\u001b[39;00m \u001b[38;5;28mzip\u001b[39m(splines, atom_coords, coeffs)\n\u001b[1;32m    603\u001b[0m ]\n",
      "File \u001b[0;32m~/modules/AtomDB/atomdb/promolecule.py:316\u001b[0m, in \u001b[0;36mPromolecule.gradient.<locals>.f\u001b[0;34m(atom)\u001b[0m\n\u001b[1;32m    315\u001b[0m \u001b[38;5;28;01mdef\u001b[39;00m \u001b[38;5;21mf\u001b[39m(atom):\n\u001b[0;32m--> 316\u001b[0m     \u001b[38;5;28;01mreturn\u001b[39;00m \u001b[43matom\u001b[49m\u001b[38;5;241;43m.\u001b[39;49m\u001b[43md_dens_func\u001b[49m\u001b[43m(\u001b[49m\u001b[43mspin\u001b[49m\u001b[38;5;241;43m=\u001b[39;49m\u001b[43mspin\u001b[49m\u001b[43m,\u001b[49m\u001b[43m \u001b[49m\u001b[43mlog\u001b[49m\u001b[38;5;241;43m=\u001b[39;49m\u001b[43mlog\u001b[49m\u001b[43m)\u001b[49m\n",
      "File \u001b[0;32m~/modules/AtomDB/atomdb/species.py:138\u001b[0m, in \u001b[0;36mspline.<locals>.wrapper\u001b[0;34m(self, spin, index, log)\u001b[0m\n\u001b[1;32m    135\u001b[0m     arr \u001b[38;5;241m=\u001b[39m arr\u001b[38;5;241m.\u001b[39msum(axis\u001b[38;5;241m=\u001b[39m\u001b[38;5;241m0\u001b[39m)  \u001b[38;5;66;03m# (N,)\u001b[39;00m\n\u001b[1;32m    137\u001b[0m \u001b[38;5;66;03m# Return cubic spline\u001b[39;00m\n\u001b[0;32m--> 138\u001b[0m \u001b[38;5;28;01mreturn\u001b[39;00m \u001b[43mDensitySpline\u001b[49m\u001b[43m(\u001b[49m\u001b[38;5;28;43mself\u001b[39;49m\u001b[38;5;241;43m.\u001b[39;49m\u001b[43m_data\u001b[49m\u001b[38;5;241;43m.\u001b[39;49m\u001b[43mrs\u001b[49m\u001b[43m,\u001b[49m\u001b[43m \u001b[49m\u001b[43marr\u001b[49m\u001b[43m,\u001b[49m\u001b[43m \u001b[49m\u001b[43mlog\u001b[49m\u001b[38;5;241;43m=\u001b[39;49m\u001b[43mlog\u001b[49m\u001b[43m)\u001b[49m\n",
      "File \u001b[0;32m~/modules/AtomDB/atomdb/species.py:149\u001b[0m, in \u001b[0;36mDensitySpline.__init__\u001b[0;34m(self, x, y, log)\u001b[0m\n\u001b[1;32m    147\u001b[0m \u001b[38;5;250m\u001b[39m\u001b[38;5;124mr\u001b[39m\u001b[38;5;124;03m\"\"\"Initialize the CubicSpline instance.\"\"\"\u001b[39;00m\n\u001b[1;32m    148\u001b[0m \u001b[38;5;28mself\u001b[39m\u001b[38;5;241m.\u001b[39m_log \u001b[38;5;241m=\u001b[39m log\n\u001b[0;32m--> 149\u001b[0m \u001b[38;5;28mself\u001b[39m\u001b[38;5;241m.\u001b[39m_obj \u001b[38;5;241m=\u001b[39m \u001b[43mCubicSpline\u001b[49m\u001b[43m(\u001b[49m\n\u001b[1;32m    150\u001b[0m \u001b[43m    \u001b[49m\u001b[43mx\u001b[49m\u001b[43m,\u001b[49m\n\u001b[1;32m    151\u001b[0m \u001b[43m    \u001b[49m\u001b[43mnp\u001b[49m\u001b[38;5;241;43m.\u001b[39;49m\u001b[43mlog\u001b[49m\u001b[43m(\u001b[49m\u001b[43my\u001b[49m\u001b[43m)\u001b[49m\u001b[43m \u001b[49m\u001b[38;5;28;43;01mif\u001b[39;49;00m\u001b[43m \u001b[49m\u001b[43mlog\u001b[49m\u001b[43m \u001b[49m\u001b[38;5;28;43;01melse\u001b[39;49;00m\u001b[43m \u001b[49m\u001b[43my\u001b[49m\u001b[43m,\u001b[49m\n\u001b[1;32m    152\u001b[0m \u001b[43m    \u001b[49m\u001b[43maxis\u001b[49m\u001b[38;5;241;43m=\u001b[39;49m\u001b[38;5;241;43m0\u001b[39;49m\u001b[43m,\u001b[49m\n\u001b[1;32m    153\u001b[0m \u001b[43m    \u001b[49m\u001b[43mbc_type\u001b[49m\u001b[38;5;241;43m=\u001b[39;49m\u001b[38;5;124;43m\"\u001b[39;49m\u001b[38;5;124;43mnot-a-knot\u001b[39;49m\u001b[38;5;124;43m\"\u001b[39;49m\u001b[43m,\u001b[49m\n\u001b[1;32m    154\u001b[0m \u001b[43m    \u001b[49m\u001b[43mextrapolate\u001b[49m\u001b[38;5;241;43m=\u001b[39;49m\u001b[38;5;28;43;01mTrue\u001b[39;49;00m\u001b[43m,\u001b[49m\n\u001b[1;32m    155\u001b[0m \u001b[43m\u001b[49m\u001b[43m)\u001b[49m\n",
      "File \u001b[0;32m~/opt/anaconda3/envs/env_ml_py38/lib/python3.8/site-packages/scipy/interpolate/_cubic.py:635\u001b[0m, in \u001b[0;36mCubicSpline.__init__\u001b[0;34m(self, x, y, axis, bc_type, extrapolate)\u001b[0m\n\u001b[1;32m    634\u001b[0m \u001b[38;5;28;01mdef\u001b[39;00m \u001b[38;5;21m__init__\u001b[39m(\u001b[38;5;28mself\u001b[39m, x, y, axis\u001b[38;5;241m=\u001b[39m\u001b[38;5;241m0\u001b[39m, bc_type\u001b[38;5;241m=\u001b[39m\u001b[38;5;124m'\u001b[39m\u001b[38;5;124mnot-a-knot\u001b[39m\u001b[38;5;124m'\u001b[39m, extrapolate\u001b[38;5;241m=\u001b[39m\u001b[38;5;28;01mNone\u001b[39;00m):\n\u001b[0;32m--> 635\u001b[0m     x, dx, y, axis, _ \u001b[38;5;241m=\u001b[39m \u001b[43mprepare_input\u001b[49m\u001b[43m(\u001b[49m\u001b[43mx\u001b[49m\u001b[43m,\u001b[49m\u001b[43m \u001b[49m\u001b[43my\u001b[49m\u001b[43m,\u001b[49m\u001b[43m \u001b[49m\u001b[43maxis\u001b[49m\u001b[43m)\u001b[49m\n\u001b[1;32m    636\u001b[0m     n \u001b[38;5;241m=\u001b[39m \u001b[38;5;28mlen\u001b[39m(x)\n\u001b[1;32m    638\u001b[0m     bc, y \u001b[38;5;241m=\u001b[39m \u001b[38;5;28mself\u001b[39m\u001b[38;5;241m.\u001b[39m_validate_bc(bc_type, y, y\u001b[38;5;241m.\u001b[39mshape[\u001b[38;5;241m1\u001b[39m:], axis)\n",
      "File \u001b[0;32m~/opt/anaconda3/envs/env_ml_py38/lib/python3.8/site-packages/scipy/interpolate/_cubic.py:54\u001b[0m, in \u001b[0;36mprepare_input\u001b[0;34m(x, y, axis, dydx)\u001b[0m\n\u001b[1;32m     52\u001b[0m     \u001b[38;5;28;01mraise\u001b[39;00m \u001b[38;5;167;01mValueError\u001b[39;00m(\u001b[38;5;124m\"\u001b[39m\u001b[38;5;124m`x` must contain only finite values.\u001b[39m\u001b[38;5;124m\"\u001b[39m)\n\u001b[1;32m     53\u001b[0m \u001b[38;5;28;01mif\u001b[39;00m \u001b[38;5;129;01mnot\u001b[39;00m np\u001b[38;5;241m.\u001b[39mall(np\u001b[38;5;241m.\u001b[39misfinite(y)):\n\u001b[0;32m---> 54\u001b[0m     \u001b[38;5;28;01mraise\u001b[39;00m \u001b[38;5;167;01mValueError\u001b[39;00m(\u001b[38;5;124m\"\u001b[39m\u001b[38;5;124m`y` must contain only finite values.\u001b[39m\u001b[38;5;124m\"\u001b[39m)\n\u001b[1;32m     56\u001b[0m \u001b[38;5;28;01mif\u001b[39;00m dydx \u001b[38;5;129;01mis\u001b[39;00m \u001b[38;5;129;01mnot\u001b[39;00m \u001b[38;5;28;01mNone\u001b[39;00m \u001b[38;5;129;01mand\u001b[39;00m \u001b[38;5;129;01mnot\u001b[39;00m np\u001b[38;5;241m.\u001b[39mall(np\u001b[38;5;241m.\u001b[39misfinite(dydx)):\n\u001b[1;32m     57\u001b[0m     \u001b[38;5;28;01mraise\u001b[39;00m \u001b[38;5;167;01mValueError\u001b[39;00m(\u001b[38;5;124m\"\u001b[39m\u001b[38;5;124m`dydx` must contain only finite values.\u001b[39m\u001b[38;5;124m\"\u001b[39m)\n",
      "\u001b[0;31mValueError\u001b[0m: `y` must contain only finite values."
     ]
    }
   ],
   "source": [
    "# Optional modules\n",
    "import numpy as np\n",
    "import matplotlib.pyplot as plt\n",
    "from iodata import load_one\n",
    "from grid.cubic import UniformGrid\n",
    "# AtomDB's promolecule tool\n",
    "from atomdb import make_promolecule\n",
    "\n",
    "\n",
    "# Function to evaluate the reduced density gradient\n",
    "def reduced_density_gradient(rho, nablarho):\n",
    "    coeff = 2 * (3 * np.pi ** 2) ** (1 / 3)\n",
    "    gradnorm = np.linalg.norm(nablarho, axis=1)\n",
    "    return gradnorm / (coeff * rho ** (4 / 3))\n",
    "\n",
    "# Load the coordinates of the water dimer\n",
    "fname = 'h2o'\n",
    "mol = load_one(f'data/{fname}_dimer.xyz')\n",
    "atnums = mol.atnums\n",
    "atcoords = mol.atcoords # in Bohr\n",
    "\n",
    "# Generate a 3D grid with a spacing of 0.2 Bohr and an extension of 5.0 Bohr\n",
    "cubgrid = UniformGrid.from_molecule(atnums, atcoords, spacing=0.2, extension=5.0, rotate=False, weight=\"Trapezoid\")\n",
    "\n",
    "# Build de promolecule and evaluate its density and gradient. The 'slater' dataset is used to obtain the atomic data\n",
    "dimer_promol = make_promolecule(atnums, atcoords, dataset='slater')\n",
    "dimer_rho = dimer_promol.density(cubgrid.points, log=True)\n",
    "dimer_grad = dimer_promol.gradient(cubgrid.points, log=True)\n",
    "\n",
    "# Compute reduced gradient\n",
    "dimer_rdgrad = reduced_density_gradient(dimer_rho, dimer_grad)\n",
    "\n",
    "# Load density and reduced density data for a single H2O molecule\n",
    "h2o_rho = np.load(f'data/{fname}_promol_rho.npy')\n",
    "h2o_rdgrad = np.load(f'data/{fname}_promol_reducedgradient.npy')\n",
    "\n",
    "# Plot the reduced gradient as a function of the density\n",
    "plt.scatter(dimer_rho, dimer_rdgrad, label='H2O dimer')\n",
    "plt.scatter(h2o_rho, h2o_rdgrad, label='H2O')\n",
    "plt.xlim(0., 0.3)\n",
    "plt.ylim(0., 1.0)\n",
    "plt.xlabel(r'$\\rho(R)$')\n",
    "plt.ylabel(r'Reduced gradient')\n",
    "plt.legend()\n",
    "plt.show()"
   ]
  }
 ],
 "metadata": {
  "kernelspec": {
   "display_name": "Python 3 (ipykernel)",
   "language": "python",
   "name": "python3"
  },
  "language_info": {
   "codemirror_mode": {
    "name": "ipython",
    "version": 3
   },
   "file_extension": ".py",
   "mimetype": "text/x-python",
   "name": "python",
   "nbconvert_exporter": "python",
   "pygments_lexer": "ipython3",
   "version": "3.8.13"
  },
  "vscode": {
   "interpreter": {
    "hash": "4846203d052f4918654383d2fa4dc83e5f0e073317ccb4eea0fa3b82d0bd9d45"
   }
  }
 },
 "nbformat": 4,
 "nbformat_minor": 4
}
