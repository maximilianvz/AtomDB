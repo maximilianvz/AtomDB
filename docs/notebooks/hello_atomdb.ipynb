{
 "cells": [
  {
   "cell_type": "markdown",
   "metadata": {
    "slideshow": {
     "slide_type": "-"
    }
   },
   "source": [
    "# Hello AtomDB!"
   ]
  },
  {
   "cell_type": "markdown",
   "metadata": {
    "slideshow": {
     "slide_type": "slide"
    }
   },
   "source": [
    "This tutorial shows how to use QC-AtomDB as a Python library.\n"
   ]
  },
  {
   "cell_type": "markdown",
   "metadata": {},
   "source": [
    "## Learning outcomes\n",
    "\n",
    "- Loading/Dumping atomic species data\n",
    "\n",
    "- Getting atomic properties\n",
    "\n",
    "- Defining a pormolecule and evalauting its properties"
   ]
  },
  {
   "cell_type": "markdown",
   "metadata": {},
   "source": [
    "## Packages isntall for Google Colab"
   ]
  },
  {
   "cell_type": "code",
   "execution_count": 1,
   "metadata": {},
   "outputs": [],
   "source": [
    "# ! pip install git+https://github.com/theochem/iodata.git\n",
    "# ! pip install git+https://github.com/theochem/grid.git\n",
    "# ! pip install git+https://github.com/theochem/AtomDB.git@dev"
   ]
  },
  {
   "cell_type": "code",
   "execution_count": 2,
   "metadata": {},
   "outputs": [],
   "source": [
    "# # download the example files\n",
    "# import os\n",
    "# from urllib.request import urlretrieve\n",
    "\n",
    "# fpath = \"data/\"\n",
    "# if not os.path.exists(fpath):\n",
    "#     os.makedirs(fpath, exist_ok=True)\n",
    "\n",
    "# urlretrieve(\n",
    "#     \"https://raw.githubusercontent.com/theochem/AtomDB/dev/examples/notebooks/data/h2o_dimer.xyz\",\n",
    "#     os.path.join(fpath, \"h2o_dimer.xyz\")\n",
    "#     )\n",
    "\n",
    "# urlretrieve(\n",
    "#     \"https://raw.githubusercontent.com/theochem/AtomDB/dev/examples/notebooks/data/h2o_promol_rho.npy\",\n",
    "#     os.path.join(fpath, \"h2o_promol_rho.npy\")\n",
    "#     )\n",
    "\n",
    "# urlretrieve(\n",
    "#     \"https://raw.githubusercontent.com/theochem/AtomDB/dev/examples/notebooks/data/h2o_promol_reducedgradient.npy\",\n",
    "#     os.path.join(fpath, \"h2o_promol_reducedgradient.npy\")\n",
    "#     )"
   ]
  },
  {
   "cell_type": "code",
   "execution_count": 3,
   "metadata": {},
   "outputs": [],
   "source": [
    "# import sys  \n",
    "# sys.path.insert(0, '../../')"
   ]
  },
  {
   "cell_type": "markdown",
   "metadata": {},
   "source": [
    "<!-- Atom-DB as a Python library\n",
    "---------------------------- -->\n",
    "\n",
    "The following lines should appear at the beginning of the scripts:"
   ]
  },
  {
   "cell_type": "code",
   "execution_count": 4,
   "metadata": {
    "slideshow": {
     "slide_type": "slide"
    }
   },
   "outputs": [],
   "source": [
    "# Import the AtomDB library\n",
    "import atomdb\n",
    "\n",
    "# Optional modules\n",
    "import numpy as np\n",
    "from matplotlib import pyplot\n"
   ]
  },
  {
   "cell_type": "markdown",
   "metadata": {
    "slideshow": {
     "slide_type": "slide"
    }
   },
   "source": [
    "## Loading/Dumping Data\n",
    "\n",
    "Use the `atomdb.load` function to retrieve an atomic spcies' information.\n",
    "\n",
    "The required inputs are: element symbol, charge and multiplicity. \n",
    "\n",
    "Optionally a dataset name can be specified choosing one of:\n",
    "\n",
    "- `nist`: NIST spectroscopic data complemented with results from [Phys. Chem. Chem. Phys., 2016,18, 25721-25734](https://doi.org/10.1039/C6CP04533B)\n",
    "\n",
    "- `slater`: Atomic orbitals and electronic denisty properties from SCF calculations using Slater basis.\n",
    "\n",
    "- `numeric`: electronic denisty properties from numerical Hartree-fock calculations.\n",
    "\n",
    "- `gaussian`: Atomic orbitals and electronic denisty properties from SCF calculations using gaussian basis. \n",
    "\n",
    "Currently we only support neutral/charged elements in its ground state, therefore, the optional parameter nexc (electronic state number) is not specified, leaving it to take its dafault value 0."
   ]
  },
  {
   "cell_type": "code",
   "execution_count": 5,
   "metadata": {
    "slideshow": {
     "slide_type": "slide"
    }
   },
   "outputs": [],
   "source": [
    "# Define species and load data\n",
    "element = 'Cl'\n",
    "charge = 0\n",
    "mult = 2\n",
    "dataset = 'slater'\n",
    "\n",
    "chl = atomdb.load(element, charge, mult, dataset=dataset)"
   ]
  },
  {
   "cell_type": "markdown",
   "metadata": {},
   "source": [
    "\n",
    "\n",
    "All information stored about a specise can be outputted in a JSON file format using:"
   ]
  },
  {
   "cell_type": "code",
   "execution_count": 6,
   "metadata": {},
   "outputs": [],
   "source": [
    "# Dumping Data to a JSON File\n",
    "# chl.to_json()"
   ]
  },
  {
   "cell_type": "markdown",
   "metadata": {
    "slideshow": {
     "slide_type": "slide"
    }
   },
   "source": [
    "## Getting Atomic Properties\n",
    "\n",
    "Bellow we showcase some of the accesible scalar and vector properties (mostly related to the electron density)\n",
    " \n",
    "Note that we use dictionaries for properties like the non-bonded atomic radius having more than one definition."
   ]
  },
  {
   "cell_type": "markdown",
   "metadata": {},
   "source": [
    "* Scalars"
   ]
  },
  {
   "cell_type": "code",
   "execution_count": 7,
   "metadata": {},
   "outputs": [
    {
     "name": "stdout",
     "output_type": "stream",
     "text": [
      "Atomic number:  17\n",
      "Number of electrons:  17\n",
      "Mass [a.u.]:  {'stb': 64624.13119146579, 'nist': 63744.3189486301}\n",
      "Atomic radius [a.u.]:  3.3070207180857714\n"
     ]
    }
   ],
   "source": [
    "print(\"Atomic number: \", chl.atnum)\n",
    "print(\"Number of electrons: \", chl.nelec)\n",
    "print(\"Mass [a.u.]: \", chl.atmass)\n",
    "print(\"Atomic radius [a.u.]: \", chl.vdw_radius['bondi'])"
   ]
  },
  {
   "cell_type": "markdown",
   "metadata": {},
   "source": [
    "* Vectors"
   ]
  },
  {
   "cell_type": "code",
   "execution_count": 8,
   "metadata": {},
   "outputs": [
    {
     "name": "stdout",
     "output_type": "stream",
     "text": [
      "Number of spin-orbitals (alpha):  9\n",
      "Energies:  [-104.8844208  -10.6074807   -8.0722274   -8.0722274   -8.0722274\n",
      "   -1.0729121   -0.5063999   -0.5063999   -0.5063999]\n",
      "Occupations (alpha):  [1 1 1 1 1 1 1 1 1]\n",
      "Occupations (beta):  [1 1 1 1 1 1 1 1 0]\n"
     ]
    }
   ],
   "source": [
    "# Atomic orbitals\n",
    "print(\"Number of spin-orbitals (alpha): \", chl.ao.norba)\n",
    "print(\"Energies: \", chl.ao.energy_a)\n",
    "print(\"Occupations (alpha): \", chl.ao.occs_a)\n",
    "print(\"Occupations (beta): \", chl.ao.occs_b)"
   ]
  },
  {
   "cell_type": "markdown",
   "metadata": {},
   "source": [
    "* Functions (electron density properties)"
   ]
  },
  {
   "cell_type": "markdown",
   "metadata": {},
   "source": [
    "Two methods are available to compute density-related properties: `dens_func` and `dens_func`; they return spline functions (cubic splines) that can be evaluated on a radial grid. \n",
    "\n",
    "<!-- Optionally, one can select the type of orbitals included in the calculation and take a subset of them by specifying their spin component and index, respectively (by default, all occupied alpha and beta spin-orbitals are included, `spin=ab` and `index=None`). Also, density derivatives are accessible through the `deriv` parameter passed to the splines. -->"
   ]
  },
  {
   "cell_type": "code",
   "execution_count": 9,
   "metadata": {
    "slideshow": {
     "slide_type": "slide"
    }
   },
   "outputs": [],
   "source": [
    "# Define a uniform radial grid and evaluate density\n",
    "rad_grid = np.linspace(0., 6., num=100)\n",
    "dens_spline = chl.dens_func(log=True)\n",
    "\n",
    "dens = dens_spline(rad_grid)"
   ]
  },
  {
   "cell_type": "code",
   "execution_count": 10,
   "metadata": {
    "slideshow": {
     "slide_type": "slide"
    }
   },
   "outputs": [
    {
     "data": {
      "text/plain": [
       "Text(0.5, 0.98, 'Spherically averaged density')"
      ]
     },
     "execution_count": 10,
     "metadata": {},
     "output_type": "execute_result"
    },
    {
     "data": {
      "text/plain": [
       "<Figure size 2400x1800 with 0 Axes>"
      ]
     },
     "metadata": {},
     "output_type": "display_data"
    },
    {
     "data": {
      "image/png": "[encoded data removed]",
      "text/plain": [
       "<Figure size 640x480 with 1 Axes>"
      ]
     },
     "metadata": {},
     "output_type": "display_data"
    }
   ],
   "source": [
    "pyplot.figure(figsize = (8, 6), dpi=300)\n",
    "\n",
    "# pyplot.rcParams.update({'font.size': 16})\n",
    "params = {'legend.fontsize': 'x-large',\n",
    "         'axes.labelsize': 12,\n",
    "         'axes.titlesize':16,\n",
    "         'xtick.labelsize':10,\n",
    "         'ytick.labelsize':10}\n",
    "pyplot.rcParams.update(params)\n",
    "\n",
    "\n",
    "fig, ax = pyplot.subplots()\n",
    "\n",
    "ax.plot(rad_grid, dens, '-r', linewidth=2)\n",
    "\n",
    "ax.set(xlabel=\"Radial distance [Bohr]\", ylabel=\"Density [Bohr$^{-3}$]\")\n",
    "ax.set_yscale('log')\n",
    "ax.set_ylim(top=1000, bottom=0.00001)\n",
    "ax.set_xlim(left=0., right=6)\n",
    "fig.suptitle(f'Spherically averaged density')"
   ]
  },
  {
   "cell_type": "markdown",
   "metadata": {},
   "source": [
    "## Promolecule tool: making a pormolecule and evalauting its properties"
   ]
  },
  {
   "cell_type": "markdown",
   "metadata": {},
   "source": [
    "#### Reduced density gradient\n",
    "\n",
    "$$\n",
    "s(\\mathbf{r}) = \\frac{1}{2(3\\pi^2)^{1/3}}\\frac{|\\nabla \\rho (\\mathbf{r})|}{\\rho^{4/3}(\\mathbf{r})}\n",
    "$$\n",
    "\n",
    "To compute the reduced density gradient we need:\n",
    "- Molecular coordinate file (e.g. XYZ file)\n",
    "- Cubic grid of points\n",
    "- Electron density and density gradient at points\n",
    "\n",
    "[J. Chem. Theory Comput. 2011, 7, 3, 625–632](https://pubs.acs.org/doi/10.1021/ct100641a)"
   ]
  },
  {
   "cell_type": "markdown",
   "metadata": {},
   "source": [
    "<img src=\"images/h2o_dimer.png\" alt=\"drawing\" style=\"width: 300px;\"/>"
   ]
  },
  {
   "cell_type": "markdown",
   "metadata": {},
   "source": [
    "The tool function `make_promolecule` in the `promolecule` module will build a promolecule for us. It is as simple as providing the list of atomic numbers and coordinates defining the molecule."
   ]
  },
  {
   "cell_type": "code",
   "execution_count": 11,
   "metadata": {},
   "outputs": [],
   "source": [
    "# Import modules\n",
    "from atomdb import make_promolecule\n",
    "\n",
    "# optional modules\n",
    "from iodata import load_one\n",
    "from grid.cubic import UniformGrid"
   ]
  },
  {
   "cell_type": "code",
   "execution_count": 12,
   "metadata": {},
   "outputs": [
    {
     "name": "stdout",
     "output_type": "stream",
     "text": [
      "Atomic mass:  65679.94820304772\n",
      "Electronic energy:  151.618796918\n"
     ]
    }
   ],
   "source": [
    "# Define the molecule (atoms and coordinates)\n",
    "fname = 'h2o'\n",
    "mol = load_one(f'data/{fname}_dimer.xyz')\n",
    "atnums = mol.atnums\n",
    "atcoords = mol.atcoords\n",
    "\n",
    "# Build de promolecule\n",
    "dimer_promol = make_promolecule(atnums, atcoords, dataset='slater')\n",
    "\n",
    "print(\"Atomic mass: \", dimer_promol.mass())\n",
    "print(\"Electronic energy: \", -dimer_promol.energy())"
   ]
  },
  {
   "cell_type": "markdown",
   "metadata": {},
   "source": [
    "The promolecule's electron density and density gradient are evaluated with the method `density`. In this example we use [Grid](https://github.com/theochem/grid) package to generate the required input set of points, but any external package with the same capabilities could be used."
   ]
  },
  {
   "cell_type": "code",
   "execution_count": 13,
   "metadata": {},
   "outputs": [
    {
     "name": "stderr",
     "output_type": "stream",
     "text": [
      "/Users/maximilianvanzyl/modules/AtomDB/atomdb/species.py:151: RuntimeWarning: invalid value encountered in log\n",
      "  np.log(y) if log else y,\n"
     ]
    },
    {
     "ename": "ValueError",
     "evalue": "`y` must contain only finite values.",
     "output_type": "error",
     "traceback": [
      "\u001b[0;31m---------------------------------------------------------------------------\u001b[0m",
      "\u001b[0;31mValueError\u001b[0m                                Traceback (most recent call last)",
      "Cell \u001b[0;32mIn[13], line 6\u001b[0m\n\u001b[1;32m      4\u001b[0m \u001b[38;5;66;03m# Evaluate the pormolecule's density\u001b[39;00m\n\u001b[1;32m      5\u001b[0m dimer_promol_rho \u001b[38;5;241m=\u001b[39m dimer_promol\u001b[38;5;241m.\u001b[39mdensity(cubgrid\u001b[38;5;241m.\u001b[39mpoints, log\u001b[38;5;241m=\u001b[39m\u001b[38;5;28;01mTrue\u001b[39;00m)\n\u001b[0;32m----> 6\u001b[0m dimer_promol_nablarho \u001b[38;5;241m=\u001b[39m \u001b[43mdimer_promol\u001b[49m\u001b[38;5;241;43m.\u001b[39;49m\u001b[43mgradient\u001b[49m\u001b[43m(\u001b[49m\u001b[43mcubgrid\u001b[49m\u001b[38;5;241;43m.\u001b[39;49m\u001b[43mpoints\u001b[49m\u001b[43m,\u001b[49m\u001b[43m \u001b[49m\u001b[43mlog\u001b[49m\u001b[38;5;241;43m=\u001b[39;49m\u001b[38;5;28;43;01mTrue\u001b[39;49;00m\u001b[43m)\u001b[49m\n",
      "File \u001b[0;32m~/modules/AtomDB/atomdb/promolecule.py:318\u001b[0m, in \u001b[0;36mPromolecule.gradient\u001b[0;34m(self, points, spin, log)\u001b[0m\n\u001b[1;32m    315\u001b[0m \u001b[38;5;28;01mdef\u001b[39;00m \u001b[38;5;21mf\u001b[39m(atom):\n\u001b[1;32m    316\u001b[0m     \u001b[38;5;28;01mreturn\u001b[39;00m atom\u001b[38;5;241m.\u001b[39md_dens_func(spin\u001b[38;5;241m=\u001b[39mspin, log\u001b[38;5;241m=\u001b[39mlog)\n\u001b[0;32m--> 318\u001b[0m atoms_ddens \u001b[38;5;241m=\u001b[39m \u001b[43m_extensive_local_property\u001b[49m\u001b[43m(\u001b[49m\n\u001b[1;32m    319\u001b[0m \u001b[43m    \u001b[49m\u001b[38;5;28;43mself\u001b[39;49m\u001b[38;5;241;43m.\u001b[39;49m\u001b[43matoms\u001b[49m\u001b[43m,\u001b[49m\n\u001b[1;32m    320\u001b[0m \u001b[43m    \u001b[49m\u001b[38;5;28;43mself\u001b[39;49m\u001b[38;5;241;43m.\u001b[39;49m\u001b[43mcoords\u001b[49m\u001b[43m,\u001b[49m\n\u001b[1;32m    321\u001b[0m \u001b[43m    \u001b[49m\u001b[38;5;28;43mself\u001b[39;49m\u001b[38;5;241;43m.\u001b[39;49m\u001b[43mcoeffs\u001b[49m\u001b[43m,\u001b[49m\n\u001b[1;32m    322\u001b[0m \u001b[43m    \u001b[49m\u001b[43mpoints\u001b[49m\u001b[43m,\u001b[49m\n\u001b[1;32m    323\u001b[0m \u001b[43m    \u001b[49m\u001b[43mf\u001b[49m\u001b[43m,\u001b[49m\n\u001b[1;32m    324\u001b[0m \u001b[43m\u001b[49m\u001b[43m)\u001b[49m\n\u001b[1;32m    326\u001b[0m \u001b[38;5;66;03m# The cartesian gradient (\\nabla \\rho_A) has to be evaluated using\u001b[39;00m\n\u001b[1;32m    327\u001b[0m \u001b[38;5;66;03m# the chain rule:\u001b[39;00m\n\u001b[1;32m    328\u001b[0m \u001b[38;5;66;03m#   \\nabla \\rho_A(x,y,z) = \\frac{\\partial \\rho_A}{\\partial r} * \\hat{r}\u001b[39;00m\n\u001b[0;32m   (...)\u001b[0m\n\u001b[1;32m    335\u001b[0m \u001b[38;5;66;03m#\u001b[39;00m\n\u001b[1;32m    336\u001b[0m \u001b[38;5;66;03m# Define a unit vector function\u001b[39;00m\n\u001b[1;32m    337\u001b[0m \u001b[38;5;28;01mdef\u001b[39;00m \u001b[38;5;21munit_v\u001b[39m(vector):\n",
      "File \u001b[0;32m~/modules/AtomDB/atomdb/promolecule.py:599\u001b[0m, in \u001b[0;36m_extensive_local_property\u001b[0;34m(atoms, atom_coords, coeffs, points, f, deriv)\u001b[0m\n\u001b[1;32m    596\u001b[0m \u001b[38;5;250m\u001b[39m\u001b[38;5;124mr\u001b[39m\u001b[38;5;124;03m\"\"\"Helper function for computing extensive local properties.\"\"\"\u001b[39;00m\n\u001b[1;32m    597\u001b[0m \u001b[38;5;66;03m# Add contribution from each atom, calculating the radius between\u001b[39;00m\n\u001b[1;32m    598\u001b[0m \u001b[38;5;66;03m# the points of interest and each atom inside the generator\u001b[39;00m\n\u001b[0;32m--> 599\u001b[0m splines \u001b[38;5;241m=\u001b[39m [f(atom) \u001b[38;5;28;01mfor\u001b[39;00m atom \u001b[38;5;129;01min\u001b[39;00m atoms]\n\u001b[1;32m    600\u001b[0m \u001b[38;5;28;01mreturn\u001b[39;00m [\n\u001b[1;32m    601\u001b[0m     coeff \u001b[38;5;241m*\u001b[39m spline(np\u001b[38;5;241m.\u001b[39mlinalg\u001b[38;5;241m.\u001b[39mnorm(points \u001b[38;5;241m-\u001b[39m coord, axis\u001b[38;5;241m=\u001b[39m\u001b[38;5;241m1\u001b[39m), deriv\u001b[38;5;241m=\u001b[39mderiv)\n\u001b[1;32m    602\u001b[0m     \u001b[38;5;28;01mfor\u001b[39;00m (spline, coord, coeff) \u001b[38;5;129;01min\u001b[39;00m \u001b[38;5;28mzip\u001b[39m(splines, atom_coords, coeffs)\n\u001b[1;32m    603\u001b[0m ]\n",
      "File \u001b[0;32m~/modules/AtomDB/atomdb/promolecule.py:599\u001b[0m, in \u001b[0;36m<listcomp>\u001b[0;34m(.0)\u001b[0m\n\u001b[1;32m    596\u001b[0m \u001b[38;5;250m\u001b[39m\u001b[38;5;124mr\u001b[39m\u001b[38;5;124;03m\"\"\"Helper function for computing extensive local properties.\"\"\"\u001b[39;00m\n\u001b[1;32m    597\u001b[0m \u001b[38;5;66;03m# Add contribution from each atom, calculating the radius between\u001b[39;00m\n\u001b[1;32m    598\u001b[0m \u001b[38;5;66;03m# the points of interest and each atom inside the generator\u001b[39;00m\n\u001b[0;32m--> 599\u001b[0m splines \u001b[38;5;241m=\u001b[39m [\u001b[43mf\u001b[49m\u001b[43m(\u001b[49m\u001b[43matom\u001b[49m\u001b[43m)\u001b[49m \u001b[38;5;28;01mfor\u001b[39;00m atom \u001b[38;5;129;01min\u001b[39;00m atoms]\n\u001b[1;32m    600\u001b[0m \u001b[38;5;28;01mreturn\u001b[39;00m [\n\u001b[1;32m    601\u001b[0m     coeff \u001b[38;5;241m*\u001b[39m spline(np\u001b[38;5;241m.\u001b[39mlinalg\u001b[38;5;241m.\u001b[39mnorm(points \u001b[38;5;241m-\u001b[39m coord, axis\u001b[38;5;241m=\u001b[39m\u001b[38;5;241m1\u001b[39m), deriv\u001b[38;5;241m=\u001b[39mderiv)\n\u001b[1;32m    602\u001b[0m     \u001b[38;5;28;01mfor\u001b[39;00m (spline, coord, coeff) \u001b[38;5;129;01min\u001b[39;00m \u001b[38;5;28mzip\u001b[39m(splines, atom_coords, coeffs)\n\u001b[1;32m    603\u001b[0m ]\n",
      "File \u001b[0;32m~/modules/AtomDB/atomdb/promolecule.py:316\u001b[0m, in \u001b[0;36mPromolecule.gradient.<locals>.f\u001b[0;34m(atom)\u001b[0m\n\u001b[1;32m    315\u001b[0m \u001b[38;5;28;01mdef\u001b[39;00m \u001b[38;5;21mf\u001b[39m(atom):\n\u001b[0;32m--> 316\u001b[0m     \u001b[38;5;28;01mreturn\u001b[39;00m \u001b[43matom\u001b[49m\u001b[38;5;241;43m.\u001b[39;49m\u001b[43md_dens_func\u001b[49m\u001b[43m(\u001b[49m\u001b[43mspin\u001b[49m\u001b[38;5;241;43m=\u001b[39;49m\u001b[43mspin\u001b[49m\u001b[43m,\u001b[49m\u001b[43m \u001b[49m\u001b[43mlog\u001b[49m\u001b[38;5;241;43m=\u001b[39;49m\u001b[43mlog\u001b[49m\u001b[43m)\u001b[49m\n",
      "File \u001b[0;32m~/modules/AtomDB/atomdb/species.py:138\u001b[0m, in \u001b[0;36mspline.<locals>.wrapper\u001b[0;34m(self, spin, index, log)\u001b[0m\n\u001b[1;32m    135\u001b[0m     arr \u001b[38;5;241m=\u001b[39m arr\u001b[38;5;241m.\u001b[39msum(axis\u001b[38;5;241m=\u001b[39m\u001b[38;5;241m0\u001b[39m)  \u001b[38;5;66;03m# (N,)\u001b[39;00m\n\u001b[1;32m    137\u001b[0m \u001b[38;5;66;03m# Return cubic spline\u001b[39;00m\n\u001b[0;32m--> 138\u001b[0m \u001b[38;5;28;01mreturn\u001b[39;00m \u001b[43mDensitySpline\u001b[49m\u001b[43m(\u001b[49m\u001b[38;5;28;43mself\u001b[39;49m\u001b[38;5;241;43m.\u001b[39;49m\u001b[43m_data\u001b[49m\u001b[38;5;241;43m.\u001b[39;49m\u001b[43mrs\u001b[49m\u001b[43m,\u001b[49m\u001b[43m \u001b[49m\u001b[43marr\u001b[49m\u001b[43m,\u001b[49m\u001b[43m \u001b[49m\u001b[43mlog\u001b[49m\u001b[38;5;241;43m=\u001b[39;49m\u001b[43mlog\u001b[49m\u001b[43m)\u001b[49m\n",
      "File \u001b[0;32m~/modules/AtomDB/atomdb/species.py:149\u001b[0m, in \u001b[0;36mDensitySpline.__init__\u001b[0;34m(self, x, y, log)\u001b[0m\n\u001b[1;32m    147\u001b[0m \u001b[38;5;250m\u001b[39m\u001b[38;5;124mr\u001b[39m\u001b[38;5;124;03m\"\"\"Initialize the CubicSpline instance.\"\"\"\u001b[39;00m\n\u001b[1;32m    148\u001b[0m \u001b[38;5;28mself\u001b[39m\u001b[38;5;241m.\u001b[39m_log \u001b[38;5;241m=\u001b[39m log\n\u001b[0;32m--> 149\u001b[0m \u001b[38;5;28mself\u001b[39m\u001b[38;5;241m.\u001b[39m_obj \u001b[38;5;241m=\u001b[39m \u001b[43mCubicSpline\u001b[49m\u001b[43m(\u001b[49m\n\u001b[1;32m    150\u001b[0m \u001b[43m    \u001b[49m\u001b[43mx\u001b[49m\u001b[43m,\u001b[49m\n\u001b[1;32m    151\u001b[0m \u001b[43m    \u001b[49m\u001b[43mnp\u001b[49m\u001b[38;5;241;43m.\u001b[39;49m\u001b[43mlog\u001b[49m\u001b[43m(\u001b[49m\u001b[43my\u001b[49m\u001b[43m)\u001b[49m\u001b[43m \u001b[49m\u001b[38;5;28;43;01mif\u001b[39;49;00m\u001b[43m \u001b[49m\u001b[43mlog\u001b[49m\u001b[43m \u001b[49m\u001b[38;5;28;43;01melse\u001b[39;49;00m\u001b[43m \u001b[49m\u001b[43my\u001b[49m\u001b[43m,\u001b[49m\n\u001b[1;32m    152\u001b[0m \u001b[43m    \u001b[49m\u001b[43maxis\u001b[49m\u001b[38;5;241;43m=\u001b[39;49m\u001b[38;5;241;43m0\u001b[39;49m\u001b[43m,\u001b[49m\n\u001b[1;32m    153\u001b[0m \u001b[43m    \u001b[49m\u001b[43mbc_type\u001b[49m\u001b[38;5;241;43m=\u001b[39;49m\u001b[38;5;124;43m\"\u001b[39;49m\u001b[38;5;124;43mnot-a-knot\u001b[39;49m\u001b[38;5;124;43m\"\u001b[39;49m\u001b[43m,\u001b[49m\n\u001b[1;32m    154\u001b[0m \u001b[43m    \u001b[49m\u001b[43mextrapolate\u001b[49m\u001b[38;5;241;43m=\u001b[39;49m\u001b[38;5;28;43;01mTrue\u001b[39;49;00m\u001b[43m,\u001b[49m\n\u001b[1;32m    155\u001b[0m \u001b[43m\u001b[49m\u001b[43m)\u001b[49m\n",
      "File \u001b[0;32m~/opt/anaconda3/envs/env_ml_py38/lib/python3.8/site-packages/scipy/interpolate/_cubic.py:635\u001b[0m, in \u001b[0;36mCubicSpline.__init__\u001b[0;34m(self, x, y, axis, bc_type, extrapolate)\u001b[0m\n\u001b[1;32m    634\u001b[0m \u001b[38;5;28;01mdef\u001b[39;00m \u001b[38;5;21m__init__\u001b[39m(\u001b[38;5;28mself\u001b[39m, x, y, axis\u001b[38;5;241m=\u001b[39m\u001b[38;5;241m0\u001b[39m, bc_type\u001b[38;5;241m=\u001b[39m\u001b[38;5;124m'\u001b[39m\u001b[38;5;124mnot-a-knot\u001b[39m\u001b[38;5;124m'\u001b[39m, extrapolate\u001b[38;5;241m=\u001b[39m\u001b[38;5;28;01mNone\u001b[39;00m):\n\u001b[0;32m--> 635\u001b[0m     x, dx, y, axis, _ \u001b[38;5;241m=\u001b[39m \u001b[43mprepare_input\u001b[49m\u001b[43m(\u001b[49m\u001b[43mx\u001b[49m\u001b[43m,\u001b[49m\u001b[43m \u001b[49m\u001b[43my\u001b[49m\u001b[43m,\u001b[49m\u001b[43m \u001b[49m\u001b[43maxis\u001b[49m\u001b[43m)\u001b[49m\n\u001b[1;32m    636\u001b[0m     n \u001b[38;5;241m=\u001b[39m \u001b[38;5;28mlen\u001b[39m(x)\n\u001b[1;32m    638\u001b[0m     bc, y \u001b[38;5;241m=\u001b[39m \u001b[38;5;28mself\u001b[39m\u001b[38;5;241m.\u001b[39m_validate_bc(bc_type, y, y\u001b[38;5;241m.\u001b[39mshape[\u001b[38;5;241m1\u001b[39m:], axis)\n",
      "File \u001b[0;32m~/opt/anaconda3/envs/env_ml_py38/lib/python3.8/site-packages/scipy/interpolate/_cubic.py:54\u001b[0m, in \u001b[0;36mprepare_input\u001b[0;34m(x, y, axis, dydx)\u001b[0m\n\u001b[1;32m     52\u001b[0m     \u001b[38;5;28;01mraise\u001b[39;00m \u001b[38;5;167;01mValueError\u001b[39;00m(\u001b[38;5;124m\"\u001b[39m\u001b[38;5;124m`x` must contain only finite values.\u001b[39m\u001b[38;5;124m\"\u001b[39m)\n\u001b[1;32m     53\u001b[0m \u001b[38;5;28;01mif\u001b[39;00m \u001b[38;5;129;01mnot\u001b[39;00m np\u001b[38;5;241m.\u001b[39mall(np\u001b[38;5;241m.\u001b[39misfinite(y)):\n\u001b[0;32m---> 54\u001b[0m     \u001b[38;5;28;01mraise\u001b[39;00m \u001b[38;5;167;01mValueError\u001b[39;00m(\u001b[38;5;124m\"\u001b[39m\u001b[38;5;124m`y` must contain only finite values.\u001b[39m\u001b[38;5;124m\"\u001b[39m)\n\u001b[1;32m     56\u001b[0m \u001b[38;5;28;01mif\u001b[39;00m dydx \u001b[38;5;129;01mis\u001b[39;00m \u001b[38;5;129;01mnot\u001b[39;00m \u001b[38;5;28;01mNone\u001b[39;00m \u001b[38;5;129;01mand\u001b[39;00m \u001b[38;5;129;01mnot\u001b[39;00m np\u001b[38;5;241m.\u001b[39mall(np\u001b[38;5;241m.\u001b[39misfinite(dydx)):\n\u001b[1;32m     57\u001b[0m     \u001b[38;5;28;01mraise\u001b[39;00m \u001b[38;5;167;01mValueError\u001b[39;00m(\u001b[38;5;124m\"\u001b[39m\u001b[38;5;124m`dydx` must contain only finite values.\u001b[39m\u001b[38;5;124m\"\u001b[39m)\n",
      "\u001b[0;31mValueError\u001b[0m: `y` must contain only finite values."
     ]
    }
   ],
   "source": [
    "# Generate a grid\n",
    "cubgrid = UniformGrid.from_molecule(atnums, atcoords, spacing=0.2, extension=5.0, rotate=False, weight=\"Trapezoid\")\n",
    "\n",
    "# Evaluate the pormolecule's density\n",
    "dimer_promol_rho = dimer_promol.density(cubgrid.points, log=True)\n",
    "dimer_promol_nablarho = dimer_promol.gradient(cubgrid.points, log=True)"
   ]
  },
  {
   "cell_type": "code",
   "execution_count": null,
   "metadata": {},
   "outputs": [],
   "source": [
    "# Reduced density gradient\n",
    "def reduced_density_gradient(rho, nablarho):\n",
    "    coeff = 2 * (3 * np.pi ** 2) ** (1 / 3)\n",
    "    gradnorm = np.linalg.norm(nablarho, axis=1)\n",
    "    return gradnorm / (coeff * rho ** (4 / 3))\n",
    "\n",
    "\n",
    "dimer_red_gradient = reduced_density_gradient(dimer_promol_rho, dimer_promol_nablarho)"
   ]
  },
  {
   "cell_type": "code",
   "execution_count": null,
   "metadata": {},
   "outputs": [],
   "source": [
    "# Load desnity and reduced density data for a single H2O molecule\n",
    "h2o_promol_rho = np.load(f'data/{fname}_promol_rho.npy')\n",
    "h2o_red_gradient = np.load(f'data/{fname}_promol_reducedgradient.npy')"
   ]
  },
  {
   "cell_type": "code",
   "execution_count": null,
   "metadata": {},
   "outputs": [],
   "source": [
    "#\n",
    "# Reduced density gradient vs density for the promolecule\n",
    "#\n",
    "import matplotlib.pyplot as plt\n",
    "\n",
    "plt.scatter(dimer_promol_rho, dimer_red_gradient, label='H2O dimer')\n",
    "plt.scatter(h2o_promol_rho, h2o_red_gradient, label='H2O')\n",
    "plt.xlim(0., 0.3)\n",
    "plt.ylim(0., 1.0)\n",
    "plt.xlabel(r'$\\rho(R)$')\n",
    "plt.ylabel(r'Reduced gradient')\n",
    "plt.legend()\n",
    "plt.show()"
   ]
  }
 ],
 "metadata": {
  "kernelspec": {
   "display_name": "Python 3 (ipykernel)",
   "language": "python",
   "name": "python3"
  },
  "language_info": {
   "codemirror_mode": {
    "name": "ipython",
    "version": 3
   },
   "file_extension": ".py",
   "mimetype": "text/x-python",
   "name": "python",
   "nbconvert_exporter": "python",
   "pygments_lexer": "ipython3",
   "version": "3.8.13"
  },
  "vscode": {
   "interpreter": {
    "hash": "4846203d052f4918654383d2fa4dc83e5f0e073317ccb4eea0fa3b82d0bd9d45"
   }
  }
 },
 "nbformat": 4,
 "nbformat_minor": 4
}
